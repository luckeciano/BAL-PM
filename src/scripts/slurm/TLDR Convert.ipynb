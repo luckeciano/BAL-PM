{
 "cells": [
  {
   "cell_type": "code",
   "execution_count": 6,
   "id": "02003473-ead5-4697-a03d-8284311c74b1",
   "metadata": {},
   "outputs": [],
   "source": [
    "import json\n",
    "import pandas as pd\n",
    "import os\n",
    "\n",
    "def jsonl_to_dataframe(directory):\n",
    "    data = []\n",
    "    for filename in os.listdir(directory):\n",
    "        print(filename)\n",
    "        if filename.endswith('.json'):\n",
    "            with open(os.path.join(directory, filename), 'r') as file:\n",
    "                for line in file:\n",
    "                    data.append(json.loads(line))\n",
    "    return pd.DataFrame(data)"
   ]
  },
  {
   "cell_type": "code",
   "execution_count": 7,
   "id": "a7b9d62d-6453-4b37-b6d3-c94457a4fcf2",
   "metadata": {},
   "outputs": [],
   "source": [
    "# Get the dataset here: https://github.com/openai/summarize-from-feedback"
   ]
  },
  {
   "cell_type": "code",
   "execution_count": 8,
   "id": "a3c32cc6-21ae-4169-ba4b-5e97f1b2d8f8",
   "metadata": {},
   "outputs": [
    {
     "name": "stdout",
     "output_type": "stream",
     "text": [
      "batch0_cnndm.json\n",
      "batch10.json\n",
      "batch11.json\n",
      "batch12.json\n",
      "batch13.json\n",
      "batch14.json\n",
      "batch15.json\n",
      "batch16.json\n",
      "batch17.json\n",
      "batch18.json\n",
      "batch19.json\n",
      "batch20.json\n",
      "batch22.json\n",
      "batch3.json\n",
      "batch4.json\n",
      "batch5.json\n",
      "batch6.json\n",
      "batch7.json\n",
      "batch8.json\n",
      "batch9.json\n",
      "cnndm0.json\n",
      "cnndm2.json\n",
      "edit_b2_eval_test.json\n"
     ]
    }
   ],
   "source": [
    "dataset = jsonl_to_dataframe('/users/lucelo/reddit-cnn-dataset/comparisons')"
   ]
  },
  {
   "cell_type": "code",
   "execution_count": 9,
   "id": "4c4d050a-fc13-4f3b-afa7-fab209441ab5",
   "metadata": {},
   "outputs": [],
   "source": [
    "train = dataset[dataset[\"split\"] == \"train\"].reset_index(drop=True)"
   ]
  },
  {
   "cell_type": "code",
   "execution_count": 10,
   "id": "e611eeca-4f84-4b8c-bb6a-2e0a26526cbc",
   "metadata": {},
   "outputs": [
    {
     "data": {
      "text/html": [
       "<div>\n",
       "<style scoped>\n",
       "    .dataframe tbody tr th:only-of-type {\n",
       "        vertical-align: middle;\n",
       "    }\n",
       "\n",
       "    .dataframe tbody tr th {\n",
       "        vertical-align: top;\n",
       "    }\n",
       "\n",
       "    .dataframe thead th {\n",
       "        text-align: right;\n",
       "    }\n",
       "</style>\n",
       "<table border=\"1\" class=\"dataframe\">\n",
       "  <thead>\n",
       "    <tr style=\"text-align: right;\">\n",
       "      <th></th>\n",
       "      <th>info</th>\n",
       "      <th>split</th>\n",
       "      <th>summaries</th>\n",
       "      <th>choice</th>\n",
       "      <th>worker</th>\n",
       "      <th>batch</th>\n",
       "      <th>extra</th>\n",
       "    </tr>\n",
       "  </thead>\n",
       "  <tbody>\n",
       "    <tr>\n",
       "      <th>0</th>\n",
       "      <td>{'id': 't3_f2bvu', 'post': 'A little backgroun...</td>\n",
       "      <td>train</td>\n",
       "      <td>[{'text': ' My name wasn't on the list for a l...</td>\n",
       "      <td>1</td>\n",
       "      <td>M4bdOszgybjO2qg2Dth5I1GOYAvE7V</td>\n",
       "      <td>batch10</td>\n",
       "      <td>{'confidence': 8}</td>\n",
       "    </tr>\n",
       "    <tr>\n",
       "      <th>1</th>\n",
       "      <td>{'id': 't3_f2bvu', 'post': 'A little backgroun...</td>\n",
       "      <td>train</td>\n",
       "      <td>[{'text': ' A math class had us sign up for a ...</td>\n",
       "      <td>1</td>\n",
       "      <td>M4bdOszgybjO2qg2Dth5I1GOYAvE7V</td>\n",
       "      <td>batch10</td>\n",
       "      <td>{'confidence': 9}</td>\n",
       "    </tr>\n",
       "    <tr>\n",
       "      <th>2</th>\n",
       "      <td>{'id': 't3_f2bvu', 'post': 'A little backgroun...</td>\n",
       "      <td>train</td>\n",
       "      <td>[{'text': ' Unbeknownst to me, my self assigne...</td>\n",
       "      <td>1</td>\n",
       "      <td>M4bdOszgybjO2qg2Dth5I1GOYAvE7V</td>\n",
       "      <td>batch10</td>\n",
       "      <td>{'confidence': 6}</td>\n",
       "    </tr>\n",
       "    <tr>\n",
       "      <th>3</th>\n",
       "      <td>{'id': 't3_f2bvu', 'post': 'A little backgroun...</td>\n",
       "      <td>train</td>\n",
       "      <td>[{'text': ' My name wasn't on the list for a l...</td>\n",
       "      <td>1</td>\n",
       "      <td>M4bdOszgybjO2qg2Dth5I1GOYAvE7V</td>\n",
       "      <td>batch10</td>\n",
       "      <td>{'confidence': 9}</td>\n",
       "    </tr>\n",
       "    <tr>\n",
       "      <th>4</th>\n",
       "      <td>{'id': 't3_f2bvu', 'post': 'A little backgroun...</td>\n",
       "      <td>train</td>\n",
       "      <td>[{'text': ' Unbeknownst to me, my self assigne...</td>\n",
       "      <td>1</td>\n",
       "      <td>M4bdOszgybjO2qg2Dth5I1GOYAvE7V</td>\n",
       "      <td>batch10</td>\n",
       "      <td>{'confidence': 9}</td>\n",
       "    </tr>\n",
       "  </tbody>\n",
       "</table>\n",
       "</div>"
      ],
      "text/plain": [
       "                                                info  split  \\\n",
       "0  {'id': 't3_f2bvu', 'post': 'A little backgroun...  train   \n",
       "1  {'id': 't3_f2bvu', 'post': 'A little backgroun...  train   \n",
       "2  {'id': 't3_f2bvu', 'post': 'A little backgroun...  train   \n",
       "3  {'id': 't3_f2bvu', 'post': 'A little backgroun...  train   \n",
       "4  {'id': 't3_f2bvu', 'post': 'A little backgroun...  train   \n",
       "\n",
       "                                           summaries  choice  \\\n",
       "0  [{'text': ' My name wasn't on the list for a l...       1   \n",
       "1  [{'text': ' A math class had us sign up for a ...       1   \n",
       "2  [{'text': ' Unbeknownst to me, my self assigne...       1   \n",
       "3  [{'text': ' My name wasn't on the list for a l...       1   \n",
       "4  [{'text': ' Unbeknownst to me, my self assigne...       1   \n",
       "\n",
       "                           worker    batch              extra  \n",
       "0  M4bdOszgybjO2qg2Dth5I1GOYAvE7V  batch10  {'confidence': 8}  \n",
       "1  M4bdOszgybjO2qg2Dth5I1GOYAvE7V  batch10  {'confidence': 9}  \n",
       "2  M4bdOszgybjO2qg2Dth5I1GOYAvE7V  batch10  {'confidence': 6}  \n",
       "3  M4bdOszgybjO2qg2Dth5I1GOYAvE7V  batch10  {'confidence': 9}  \n",
       "4  M4bdOszgybjO2qg2Dth5I1GOYAvE7V  batch10  {'confidence': 9}  "
      ]
     },
     "execution_count": 10,
     "metadata": {},
     "output_type": "execute_result"
    }
   ],
   "source": [
    "train.head()"
   ]
  },
  {
   "cell_type": "code",
   "execution_count": 11,
   "id": "abbdb9c9-7b10-4f08-a0da-2b10cbb1a25e",
   "metadata": {},
   "outputs": [],
   "source": [
    "def process_dataframe(df, keyword='post'):\n",
    "    # Initialize lists to store the new columns\n",
    "    post_list = []\n",
    "    text_first_list = []\n",
    "    text_second_list = []\n",
    "    choice_list = []\n",
    "\n",
    "    # Iterate over each row in the DataFrame\n",
    "    for index, row in df.iterrows():\n",
    "        # Extract 'post' from 'info' column (assuming it's a string of a JSON object)\n",
    "        info_json = row['info']\n",
    "        post = info_json.get(keyword, '')\n",
    "\n",
    "        # Extract texts from 'summaries' column (assuming it's a string of a JSON array)\n",
    "        summaries_json = row['summaries']\n",
    "        text_first = summaries_json[0].get('text', '') if len(summaries_json) > 0 else ''\n",
    "        text_second = summaries_json[1].get('text', '') if len(summaries_json) > 1 else ''\n",
    "\n",
    "        # Get 'choice' value\n",
    "        choice = row['choice']\n",
    "\n",
    "        # Append the values to the lists\n",
    "        post_list.append(post)\n",
    "        text_first_list.append(text_first)\n",
    "        text_second_list.append(text_second)\n",
    "        choice_list.append(choice)\n",
    "\n",
    "    # Create a new DataFrame\n",
    "    new_df = pd.DataFrame({\n",
    "        'Post': post_list,\n",
    "        'Text_First': text_first_list,\n",
    "        'Text_Second': text_second_list,\n",
    "        'Choice': choice_list\n",
    "    })\n",
    "\n",
    "    return new_df"
   ]
  },
  {
   "cell_type": "code",
   "execution_count": null,
   "id": "ff05aa41-f67a-4767-8078-424f2989dde0",
   "metadata": {},
   "outputs": [],
   "source": []
  },
  {
   "cell_type": "code",
   "execution_count": 12,
   "id": "8fc382f6-0a7a-465e-86a6-ccea491912a8",
   "metadata": {},
   "outputs": [],
   "source": [
    "def select_chosen_rejected(df):\n",
    "    # Initialize lists to store the new columns\n",
    "    post_list = []\n",
    "    chosen_list = []\n",
    "    rejected_list = []\n",
    "\n",
    "    # Iterate over each row in the DataFrame\n",
    "    for index, row in df.iterrows():\n",
    "        # Get 'Post' value\n",
    "        post = row['Post']\n",
    "\n",
    "        # Get 'Chosen' and 'Rejected' values based on 'Choice'\n",
    "        if row['Choice'] == 0:\n",
    "            chosen = row['Text_First']\n",
    "            rejected = row['Text_Second']\n",
    "        else:\n",
    "            chosen = row['Text_Second']\n",
    "            rejected = row['Text_First']\n",
    "\n",
    "        # Append the values to the lists\n",
    "        post_list.append(post)\n",
    "        chosen_list.append(chosen)\n",
    "        rejected_list.append(rejected)\n",
    "\n",
    "    # Create a new DataFrame\n",
    "    new_df = pd.DataFrame({\n",
    "        'post': post_list,\n",
    "        'chosen_summary': chosen_list,\n",
    "        'rejected_summary': rejected_list\n",
    "    })\n",
    "\n",
    "    return new_df"
   ]
  },
  {
   "cell_type": "code",
   "execution_count": 13,
   "id": "9d29c465-622a-4340-b2fc-eb212e928992",
   "metadata": {},
   "outputs": [],
   "source": [
    "new_df = process_dataframe(train)"
   ]
  },
  {
   "cell_type": "code",
   "execution_count": 14,
   "id": "f0f5b76b-9ad2-46c7-ad19-e719130730a2",
   "metadata": {},
   "outputs": [],
   "source": [
    "final_train_df = select_chosen_rejected(new_df)"
   ]
  },
  {
   "cell_type": "code",
   "execution_count": 15,
   "id": "2fc760ac-4d11-436f-b3e2-87b439c56502",
   "metadata": {},
   "outputs": [
    {
     "data": {
      "text/html": [
       "<div>\n",
       "<style scoped>\n",
       "    .dataframe tbody tr th:only-of-type {\n",
       "        vertical-align: middle;\n",
       "    }\n",
       "\n",
       "    .dataframe tbody tr th {\n",
       "        vertical-align: top;\n",
       "    }\n",
       "\n",
       "    .dataframe thead th {\n",
       "        text-align: right;\n",
       "    }\n",
       "</style>\n",
       "<table border=\"1\" class=\"dataframe\">\n",
       "  <thead>\n",
       "    <tr style=\"text-align: right;\">\n",
       "      <th></th>\n",
       "      <th>post</th>\n",
       "      <th>chosen_summary</th>\n",
       "      <th>rejected_summary</th>\n",
       "    </tr>\n",
       "  </thead>\n",
       "  <tbody>\n",
       "    <tr>\n",
       "      <th>0</th>\n",
       "      <td>A little background first. Like most engineers...</td>\n",
       "      <td>A math class had us sign up for a lab group b...</td>\n",
       "      <td>My name wasn't on the list for a lab. As such...</td>\n",
       "    </tr>\n",
       "    <tr>\n",
       "      <th>1</th>\n",
       "      <td>A little background first. Like most engineers...</td>\n",
       "      <td>I accidentally discovered that my university ...</td>\n",
       "      <td>A math class had us sign up for a lab group b...</td>\n",
       "    </tr>\n",
       "    <tr>\n",
       "      <th>2</th>\n",
       "      <td>A little background first. Like most engineers...</td>\n",
       "      <td>My name wasn't on the list for a lab. As such...</td>\n",
       "      <td>Unbeknownst to me, my self assigned homework ...</td>\n",
       "    </tr>\n",
       "    <tr>\n",
       "      <th>3</th>\n",
       "      <td>A little background first. Like most engineers...</td>\n",
       "      <td>I accidentally discovered that my university ...</td>\n",
       "      <td>My name wasn't on the list for a lab. As such...</td>\n",
       "    </tr>\n",
       "    <tr>\n",
       "      <th>4</th>\n",
       "      <td>A little background first. Like most engineers...</td>\n",
       "      <td>I accidentally discovered that my university ...</td>\n",
       "      <td>Unbeknownst to me, my self assigned homework ...</td>\n",
       "    </tr>\n",
       "  </tbody>\n",
       "</table>\n",
       "</div>"
      ],
      "text/plain": [
       "                                                post  \\\n",
       "0  A little background first. Like most engineers...   \n",
       "1  A little background first. Like most engineers...   \n",
       "2  A little background first. Like most engineers...   \n",
       "3  A little background first. Like most engineers...   \n",
       "4  A little background first. Like most engineers...   \n",
       "\n",
       "                                      chosen_summary  \\\n",
       "0   A math class had us sign up for a lab group b...   \n",
       "1   I accidentally discovered that my university ...   \n",
       "2   My name wasn't on the list for a lab. As such...   \n",
       "3   I accidentally discovered that my university ...   \n",
       "4   I accidentally discovered that my university ...   \n",
       "\n",
       "                                    rejected_summary  \n",
       "0   My name wasn't on the list for a lab. As such...  \n",
       "1   A math class had us sign up for a lab group b...  \n",
       "2   Unbeknownst to me, my self assigned homework ...  \n",
       "3   My name wasn't on the list for a lab. As such...  \n",
       "4   Unbeknownst to me, my self assigned homework ...  "
      ]
     },
     "execution_count": 15,
     "metadata": {},
     "output_type": "execute_result"
    }
   ],
   "source": [
    "final_train_df.head()"
   ]
  },
  {
   "cell_type": "code",
   "execution_count": 16,
   "id": "aef50053-7541-49b0-a564-ecaae4c79d4f",
   "metadata": {},
   "outputs": [],
   "source": [
    "valid1 = dataset[dataset[\"split\"] == \"valid1\"]"
   ]
  },
  {
   "cell_type": "code",
   "execution_count": 17,
   "id": "04bc2e12-bd2c-4368-b190-14eddedad527",
   "metadata": {},
   "outputs": [],
   "source": [
    "valid1_processed_df = process_dataframe(valid1)"
   ]
  },
  {
   "cell_type": "code",
   "execution_count": 18,
   "id": "7db3f28f-6a9c-46d9-9ff2-da8665fda3df",
   "metadata": {},
   "outputs": [],
   "source": [
    "final_valid1_df = select_chosen_rejected(valid1_processed_df)"
   ]
  },
  {
   "cell_type": "code",
   "execution_count": 19,
   "id": "1b5af030-d592-4434-98bf-0e83e3395eb2",
   "metadata": {},
   "outputs": [
    {
     "data": {
      "text/html": [
       "<div>\n",
       "<style scoped>\n",
       "    .dataframe tbody tr th:only-of-type {\n",
       "        vertical-align: middle;\n",
       "    }\n",
       "\n",
       "    .dataframe tbody tr th {\n",
       "        vertical-align: top;\n",
       "    }\n",
       "\n",
       "    .dataframe thead th {\n",
       "        text-align: right;\n",
       "    }\n",
       "</style>\n",
       "<table border=\"1\" class=\"dataframe\">\n",
       "  <thead>\n",
       "    <tr style=\"text-align: right;\">\n",
       "      <th></th>\n",
       "      <th>post</th>\n",
       "      <th>chosen_summary</th>\n",
       "      <th>rejected_summary</th>\n",
       "    </tr>\n",
       "  </thead>\n",
       "  <tbody>\n",
       "    <tr>\n",
       "      <th>0</th>\n",
       "      <td>This is my first post so please be kind :)\\n\\n...</td>\n",
       "      <td>I never dated/flirted as an adult, now I'm no...</td>\n",
       "      <td>Just came out of 8 year relationship, don't k...</td>\n",
       "    </tr>\n",
       "    <tr>\n",
       "      <th>1</th>\n",
       "      <td>This is my first post so please be kind :)\\n\\n...</td>\n",
       "      <td>Just came out of 8 year relationship, don't k...</td>\n",
       "      <td>Don't know how to date/flirt/flirt with someo...</td>\n",
       "    </tr>\n",
       "    <tr>\n",
       "      <th>2</th>\n",
       "      <td>This is my first post so please be kind :)\\n\\n...</td>\n",
       "      <td>I never dated/flirted as an adult, now I'm no...</td>\n",
       "      <td>Don't know how to date/flirt/flirt with someo...</td>\n",
       "    </tr>\n",
       "    <tr>\n",
       "      <th>3</th>\n",
       "      <td>This is my first post so please be kind :)\\n\\n...</td>\n",
       "      <td>Just came out of 8 year relationship, don't k...</td>\n",
       "      <td>Started a long-term relationship as a teenage...</td>\n",
       "    </tr>\n",
       "    <tr>\n",
       "      <th>4</th>\n",
       "      <td>This is my first post so please be kind :)\\n\\n...</td>\n",
       "      <td>Started a long-term relationship as a teenage...</td>\n",
       "      <td>Don't know how to date/flirt/flirt with someo...</td>\n",
       "    </tr>\n",
       "  </tbody>\n",
       "</table>\n",
       "</div>"
      ],
      "text/plain": [
       "                                                post  \\\n",
       "0  This is my first post so please be kind :)\\n\\n...   \n",
       "1  This is my first post so please be kind :)\\n\\n...   \n",
       "2  This is my first post so please be kind :)\\n\\n...   \n",
       "3  This is my first post so please be kind :)\\n\\n...   \n",
       "4  This is my first post so please be kind :)\\n\\n...   \n",
       "\n",
       "                                      chosen_summary  \\\n",
       "0   I never dated/flirted as an adult, now I'm no...   \n",
       "1   Just came out of 8 year relationship, don't k...   \n",
       "2   I never dated/flirted as an adult, now I'm no...   \n",
       "3   Just came out of 8 year relationship, don't k...   \n",
       "4   Started a long-term relationship as a teenage...   \n",
       "\n",
       "                                    rejected_summary  \n",
       "0   Just came out of 8 year relationship, don't k...  \n",
       "1   Don't know how to date/flirt/flirt with someo...  \n",
       "2   Don't know how to date/flirt/flirt with someo...  \n",
       "3   Started a long-term relationship as a teenage...  \n",
       "4   Don't know how to date/flirt/flirt with someo...  "
      ]
     },
     "execution_count": 19,
     "metadata": {},
     "output_type": "execute_result"
    }
   ],
   "source": [
    "final_valid1_df.head()"
   ]
  },
  {
   "cell_type": "code",
   "execution_count": 20,
   "id": "e0bfcd3f-46a3-40ae-9787-8ae1a16419ca",
   "metadata": {},
   "outputs": [],
   "source": [
    "valid2 = dataset[dataset[\"split\"] == \"valid2\"]"
   ]
  },
  {
   "cell_type": "code",
   "execution_count": 21,
   "id": "3033b035-9820-43e6-b6f5-9b957dbffd08",
   "metadata": {},
   "outputs": [],
   "source": [
    "valid2_cnn = valid2[valid2[\"batch\"].str.contains(\"cnndm\")]"
   ]
  },
  {
   "cell_type": "code",
   "execution_count": 22,
   "id": "ebb43c92-3a57-442f-8570-d91a36100890",
   "metadata": {},
   "outputs": [],
   "source": [
    "valid2_reddit = valid2[~valid2[\"batch\"].str.contains(\"cnndm\")]"
   ]
  },
  {
   "cell_type": "code",
   "execution_count": 23,
   "id": "4087b858-5d50-41f2-99f7-2e17115e29af",
   "metadata": {},
   "outputs": [
    {
     "data": {
      "text/plain": [
       "(50719, 2284)"
      ]
     },
     "execution_count": 23,
     "metadata": {},
     "output_type": "execute_result"
    }
   ],
   "source": [
    "len(valid2_reddit), len(valid2_cnn)"
   ]
  },
  {
   "cell_type": "code",
   "execution_count": 24,
   "id": "c8cb0f8a-d6e7-46c6-b7c2-54ed13a456c9",
   "metadata": {},
   "outputs": [],
   "source": [
    "valid2_reddit_new = process_dataframe(valid2_reddit)"
   ]
  },
  {
   "cell_type": "code",
   "execution_count": 25,
   "id": "b8042729-b397-4e85-b387-29c5afe11931",
   "metadata": {},
   "outputs": [],
   "source": [
    "final_valid2_reddit_df = select_chosen_rejected(valid2_reddit_new)"
   ]
  },
  {
   "cell_type": "code",
   "execution_count": 26,
   "id": "e43f99eb-46ed-48ae-8a7e-0108c6b88511",
   "metadata": {},
   "outputs": [
    {
     "data": {
      "text/html": [
       "<div>\n",
       "<style scoped>\n",
       "    .dataframe tbody tr th:only-of-type {\n",
       "        vertical-align: middle;\n",
       "    }\n",
       "\n",
       "    .dataframe tbody tr th {\n",
       "        vertical-align: top;\n",
       "    }\n",
       "\n",
       "    .dataframe thead th {\n",
       "        text-align: right;\n",
       "    }\n",
       "</style>\n",
       "<table border=\"1\" class=\"dataframe\">\n",
       "  <thead>\n",
       "    <tr style=\"text-align: right;\">\n",
       "      <th></th>\n",
       "      <th>post</th>\n",
       "      <th>chosen_summary</th>\n",
       "      <th>rejected_summary</th>\n",
       "    </tr>\n",
       "  </thead>\n",
       "  <tbody>\n",
       "    <tr>\n",
       "      <th>0</th>\n",
       "      <td>So this week we had plans to hang out on Sunda...</td>\n",
       "      <td>Girl I've been with 2 dates flaked out on pla...</td>\n",
       "      <td>Had plans to hang out with girl this week, bu...</td>\n",
       "    </tr>\n",
       "    <tr>\n",
       "      <th>1</th>\n",
       "      <td>So this week we had plans to hang out on Sunda...</td>\n",
       "      <td>Had two great dates this week, flaked out on ...</td>\n",
       "      <td>Had plans to hang out with girl this week, bu...</td>\n",
       "    </tr>\n",
       "    <tr>\n",
       "      <th>2</th>\n",
       "      <td>So this week we had plans to hang out on Sunda...</td>\n",
       "      <td>Girl I've been with 2 dates flaked out on pla...</td>\n",
       "      <td>Had plans with girl, schedule changed, she sc...</td>\n",
       "    </tr>\n",
       "    <tr>\n",
       "      <th>3</th>\n",
       "      <td>So this week we had plans to hang out on Sunda...</td>\n",
       "      <td>Had plans with girl, schedule changed, she sc...</td>\n",
       "      <td>Had plans to hang out with girl this week, bu...</td>\n",
       "    </tr>\n",
       "    <tr>\n",
       "      <th>4</th>\n",
       "      <td>So this week we had plans to hang out on Sunda...</td>\n",
       "      <td>Had two great dates this week, flaked out on ...</td>\n",
       "      <td>Had plans with girl, schedule changed, she sc...</td>\n",
       "    </tr>\n",
       "  </tbody>\n",
       "</table>\n",
       "</div>"
      ],
      "text/plain": [
       "                                                post  \\\n",
       "0  So this week we had plans to hang out on Sunda...   \n",
       "1  So this week we had plans to hang out on Sunda...   \n",
       "2  So this week we had plans to hang out on Sunda...   \n",
       "3  So this week we had plans to hang out on Sunda...   \n",
       "4  So this week we had plans to hang out on Sunda...   \n",
       "\n",
       "                                      chosen_summary  \\\n",
       "0   Girl I've been with 2 dates flaked out on pla...   \n",
       "1   Had two great dates this week, flaked out on ...   \n",
       "2   Girl I've been with 2 dates flaked out on pla...   \n",
       "3   Had plans with girl, schedule changed, she sc...   \n",
       "4   Had two great dates this week, flaked out on ...   \n",
       "\n",
       "                                    rejected_summary  \n",
       "0   Had plans to hang out with girl this week, bu...  \n",
       "1   Had plans to hang out with girl this week, bu...  \n",
       "2   Had plans with girl, schedule changed, she sc...  \n",
       "3   Had plans to hang out with girl this week, bu...  \n",
       "4   Had plans with girl, schedule changed, she sc...  "
      ]
     },
     "execution_count": 26,
     "metadata": {},
     "output_type": "execute_result"
    }
   ],
   "source": [
    "final_valid2_reddit_df.head()"
   ]
  },
  {
   "cell_type": "code",
   "execution_count": 27,
   "id": "a089b158-c042-4ac6-932c-b09f820784b1",
   "metadata": {},
   "outputs": [],
   "source": [
    "valid2_cnn_new = process_dataframe(valid2_cnn, \"article\")"
   ]
  },
  {
   "cell_type": "code",
   "execution_count": 28,
   "id": "bac2590b-2fe5-4db4-be95-d1484f33fca6",
   "metadata": {},
   "outputs": [],
   "source": [
    "final_valid2_cnn_df = select_chosen_rejected(valid2_cnn_new)"
   ]
  },
  {
   "cell_type": "code",
   "execution_count": 29,
   "id": "467552c8-0ad5-43f0-91d3-a5bbce28f76f",
   "metadata": {},
   "outputs": [
    {
     "data": {
      "text/html": [
       "<div>\n",
       "<style scoped>\n",
       "    .dataframe tbody tr th:only-of-type {\n",
       "        vertical-align: middle;\n",
       "    }\n",
       "\n",
       "    .dataframe tbody tr th {\n",
       "        vertical-align: top;\n",
       "    }\n",
       "\n",
       "    .dataframe thead th {\n",
       "        text-align: right;\n",
       "    }\n",
       "</style>\n",
       "<table border=\"1\" class=\"dataframe\">\n",
       "  <thead>\n",
       "    <tr style=\"text-align: right;\">\n",
       "      <th></th>\n",
       "      <th>post</th>\n",
       "      <th>chosen_summary</th>\n",
       "      <th>rejected_summary</th>\n",
       "    </tr>\n",
       "  </thead>\n",
       "  <tbody>\n",
       "    <tr>\n",
       "      <th>0</th>\n",
       "      <td>Max Clifford has been arrested in connection w...</td>\n",
       "      <td>Max Clifford 'arrested in connection with all...</td>\n",
       "      <td>Police have arrested Max Clifford, a PR guru,...</td>\n",
       "    </tr>\n",
       "    <tr>\n",
       "      <th>1</th>\n",
       "      <td>Max Clifford has been arrested in connection w...</td>\n",
       "      <td>Disgraced PR guru Max Clifford has been arres...</td>\n",
       "      <td>Police have arrested Max Clifford, a PR guru,...</td>\n",
       "    </tr>\n",
       "    <tr>\n",
       "      <th>2</th>\n",
       "      <td>Max Clifford has been arrested in connection w...</td>\n",
       "      <td>Max Clifford 'arrested in connection with all...</td>\n",
       "      <td>71-year-old Max Clifford has been arrested in...</td>\n",
       "    </tr>\n",
       "    <tr>\n",
       "      <th>3</th>\n",
       "      <td>Max Clifford has been arrested in connection w...</td>\n",
       "      <td>Max Clifford 'arrested in connection with all...</td>\n",
       "      <td>Disgraced PR guru Max Clifford has been arres...</td>\n",
       "    </tr>\n",
       "    <tr>\n",
       "      <th>4</th>\n",
       "      <td>Max Clifford has been arrested in connection w...</td>\n",
       "      <td>71-year-old Max Clifford has been arrested in...</td>\n",
       "      <td>Police have arrested Max Clifford, a PR guru,...</td>\n",
       "    </tr>\n",
       "  </tbody>\n",
       "</table>\n",
       "</div>"
      ],
      "text/plain": [
       "                                                post  \\\n",
       "0  Max Clifford has been arrested in connection w...   \n",
       "1  Max Clifford has been arrested in connection w...   \n",
       "2  Max Clifford has been arrested in connection w...   \n",
       "3  Max Clifford has been arrested in connection w...   \n",
       "4  Max Clifford has been arrested in connection w...   \n",
       "\n",
       "                                      chosen_summary  \\\n",
       "0   Max Clifford 'arrested in connection with all...   \n",
       "1   Disgraced PR guru Max Clifford has been arres...   \n",
       "2   Max Clifford 'arrested in connection with all...   \n",
       "3   Max Clifford 'arrested in connection with all...   \n",
       "4   71-year-old Max Clifford has been arrested in...   \n",
       "\n",
       "                                    rejected_summary  \n",
       "0   Police have arrested Max Clifford, a PR guru,...  \n",
       "1   Police have arrested Max Clifford, a PR guru,...  \n",
       "2   71-year-old Max Clifford has been arrested in...  \n",
       "3   Disgraced PR guru Max Clifford has been arres...  \n",
       "4   Police have arrested Max Clifford, a PR guru,...  "
      ]
     },
     "execution_count": 29,
     "metadata": {},
     "output_type": "execute_result"
    }
   ],
   "source": [
    "final_valid2_cnn_df.head()"
   ]
  },
  {
   "cell_type": "code",
   "execution_count": 71,
   "id": "6e8e7618-e120-4852-8cbe-31f480cb1b96",
   "metadata": {},
   "outputs": [],
   "source": [
    "from transformers import AutoModelForSequenceClassification, AutoTokenizer, BitsAndBytesConfig, HfArgumentParser, TrainerCallback\n",
    "tokenizer = AutoTokenizer.from_pretrained(\"gpt2\", trust_remote_code=True, truncation=True, max_length=512)\n",
    "tokenizer.pad_token = tokenizer.eos_token\n",
    "tokenizer.padding_side = \"right\"  # Fix weird overflow issue with fp16 training\n",
    "import matplotlib.pyplot as plt\n",
    "def count_tokens(df):\n",
    "    posts, chosens, rejecteds = [], [], []\n",
    "    for idx, example in df.iterrows():\n",
    "        post_tokens = tokenizer(example[\"post\"])\n",
    "        chosen_tokens = tokenizer(example[\"chosen_summary\"])\n",
    "        rejected_tokens = tokenizer(example[\"rejected_summary\"])\n",
    "        posts.append(len(post_tokens['input_ids']))\n",
    "        chosens.append(len(chosen_tokens['input_ids']))\n",
    "        rejecteds.append(len(rejected_tokens['input_ids']))\n",
    "    # plt.hist(posts, label=\"posts\")\n",
    "    plt.hist(chosens, label=\"chosens\", bins=70)\n",
    "    plt.hist(rejecteds, label=\"rejecteds\", bins=70)\n",
    "    plt.legend()"
   ]
  },
  {
   "cell_type": "code",
   "execution_count": 73,
   "id": "98185d0b-77eb-474a-b254-d2751f055a26",
   "metadata": {},
   "outputs": [
    {
     "data": {
      "image/png": "[encoded data removed]",
      "text/plain": [
       "<Figure size 640x480 with 1 Axes>"
      ]
     },
     "metadata": {},
     "output_type": "display_data"
    }
   ],
   "source": [
    "count_tokens(final_valid2_reddit_df)"
   ]
  },
  {
   "cell_type": "code",
   "execution_count": 25,
   "id": "f851834b-6af9-4573-9c59-b9f2daf0d68e",
   "metadata": {},
   "outputs": [],
   "source": [
    "import csv\n",
    "final_train_df.to_csv(\"train.csv\", index=True, header=True, index_label=\"id\", quoting=csv.QUOTE_ALL)\n",
    "final_valid1_df.to_csv(\"valid1.csv\", index=True, header=True, index_label=\"id\", quoting=csv.QUOTE_ALL)\n",
    "final_valid2_reddit_df.to_csv(\"valid2_reddit.csv\", index=True, header=True, index_label=\"id\", quoting=csv.QUOTE_ALL)\n",
    "final_valid2_cnn_df.to_csv(\"valid2_cnn.csv\", index=True, header=True, index_label=\"id\", quoting=csv.QUOTE_ALL)"
   ]
  },
  {
   "cell_type": "code",
   "execution_count": null,
   "id": "eee6ce66-029a-4702-bd65-bf1e72f19186",
   "metadata": {},
   "outputs": [],
   "source": []
  },
  {
   "cell_type": "code",
   "execution_count": null,
   "id": "469857a7-b9a6-4452-9311-d84018a83d67",
   "metadata": {},
   "outputs": [],
   "source": []
  }
 ],
 "metadata": {
  "kernelspec": {
   "display_name": "Python 3 (ipykernel)",
   "language": "python",
   "name": "python3"
  },
  "language_info": {
   "codemirror_mode": {
    "name": "ipython",
    "version": 3
   },
   "file_extension": ".py",
   "mimetype": "text/x-python",
   "name": "python",
   "nbconvert_exporter": "python",
   "pygments_lexer": "ipython3",
   "version": "3.9.18"
  }
 },
 "nbformat": 4,
 "nbformat_minor": 5
}
