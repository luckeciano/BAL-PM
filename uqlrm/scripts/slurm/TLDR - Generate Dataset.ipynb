{
 "cells": [
  {
   "cell_type": "code",
   "execution_count": 2,
   "id": "efabf756-3099-4488-995a-701ba1b76fbb",
   "metadata": {},
   "outputs": [
    {
     "name": "stdout",
     "output_type": "stream",
     "text": [
      "--2023-11-06 14:12:46--  https://openaipublic.blob.core.windows.net/lm-human-preferences/labels/tldr/offline_60k.json\n",
      "Resolving openaipublic.blob.core.windows.net (openaipublic.blob.core.windows.net)... 20.150.77.132\n",
      "Connecting to openaipublic.blob.core.windows.net (openaipublic.blob.core.windows.net)|20.150.77.132|:443... connected.\n",
      "HTTP request sent, awaiting response... 200 OK\n",
      "Length: 287138709 (274M) [application/json]\n",
      "Saving to: ‘offline_60k.json’\n",
      "\n",
      "offline_60k.json    100%[===================>] 273.84M  6.24MB/s    in 55s     \n",
      "\n",
      "2023-11-06 14:13:42 (4.94 MB/s) - ‘offline_60k.json’ saved [287138709/287138709]\n",
      "\n"
     ]
    }
   ],
   "source": [
    "!wget https://openaipublic.blob.core.windows.net/lm-human-preferences/labels/tldr/offline_60k.json"
   ]
  },
  {
   "cell_type": "code",
   "execution_count": 2,
   "id": "1eb01d4a-26f4-4636-ad9b-b1873ea96a92",
   "metadata": {},
   "outputs": [
    {
     "name": "stdout",
     "output_type": "stream",
     "text": [
      "Collecting matplotlib\n",
      "  Downloading matplotlib-3.8.1-cp39-cp39-manylinux_2_17_x86_64.manylinux2014_x86_64.whl.metadata (5.8 kB)\n",
      "Collecting contourpy>=1.0.1 (from matplotlib)\n",
      "  Downloading contourpy-1.2.0-cp39-cp39-manylinux_2_17_x86_64.manylinux2014_x86_64.whl.metadata (5.8 kB)\n",
      "Collecting cycler>=0.10 (from matplotlib)\n",
      "  Downloading cycler-0.12.1-py3-none-any.whl.metadata (3.8 kB)\n",
      "Collecting fonttools>=4.22.0 (from matplotlib)\n",
      "  Downloading fonttools-4.44.0-cp39-cp39-manylinux_2_17_x86_64.manylinux2014_x86_64.whl.metadata (153 kB)\n",
      "\u001b[2K     \u001b[90m━━━━━━━━━━━━━━━━━━━━━━━━━━━━━━━━━━━━━━━\u001b[0m \u001b[32m153.6/153.6 kB\u001b[0m \u001b[31m9.2 MB/s\u001b[0m eta \u001b[36m0:00:00\u001b[0m\n",
      "\u001b[?25hCollecting kiwisolver>=1.3.1 (from matplotlib)\n",
      "  Downloading kiwisolver-1.4.5-cp39-cp39-manylinux_2_12_x86_64.manylinux2010_x86_64.whl.metadata (6.4 kB)\n",
      "Requirement already satisfied: numpy<2,>=1.21 in /scratch-ssd/lucelo/conda_envs/uqrm/lib/python3.9/site-packages (from matplotlib) (1.26.1)\n",
      "Requirement already satisfied: packaging>=20.0 in /scratch-ssd/lucelo/conda_envs/uqrm/lib/python3.9/site-packages (from matplotlib) (23.2)\n",
      "Requirement already satisfied: pillow>=8 in /scratch-ssd/lucelo/conda_envs/uqrm/lib/python3.9/site-packages (from matplotlib) (10.1.0)\n",
      "Collecting pyparsing>=2.3.1 (from matplotlib)\n",
      "  Downloading pyparsing-3.1.1-py3-none-any.whl.metadata (5.1 kB)\n",
      "Requirement already satisfied: python-dateutil>=2.7 in /scratch-ssd/lucelo/conda_envs/uqrm/lib/python3.9/site-packages (from matplotlib) (2.8.2)\n",
      "Collecting importlib-resources>=3.2.0 (from matplotlib)\n",
      "  Downloading importlib_resources-6.1.0-py3-none-any.whl.metadata (4.1 kB)\n",
      "Requirement already satisfied: zipp>=3.1.0 in /scratch-ssd/lucelo/conda_envs/uqrm/lib/python3.9/site-packages (from importlib-resources>=3.2.0->matplotlib) (3.17.0)\n",
      "Requirement already satisfied: six>=1.5 in /scratch-ssd/lucelo/conda_envs/uqrm/lib/python3.9/site-packages (from python-dateutil>=2.7->matplotlib) (1.16.0)\n",
      "Downloading matplotlib-3.8.1-cp39-cp39-manylinux_2_17_x86_64.manylinux2014_x86_64.whl (11.6 MB)\n",
      "\u001b[2K   \u001b[90m━━━━━━━━━━━━━━━━━━━━━━━━━━━━━━━━━━━━━━━━\u001b[0m \u001b[32m11.6/11.6 MB\u001b[0m \u001b[31m95.0 MB/s\u001b[0m eta \u001b[36m0:00:00\u001b[0m:00:01\u001b[0m0:01\u001b[0m\n",
      "\u001b[?25hDownloading contourpy-1.2.0-cp39-cp39-manylinux_2_17_x86_64.manylinux2014_x86_64.whl (310 kB)\n",
      "\u001b[2K   \u001b[90m━━━━━━━━━━━━━━━━━━━━━━━━━━━━━━━━━━━━━━━━\u001b[0m \u001b[32m311.0/311.0 kB\u001b[0m \u001b[31m37.4 MB/s\u001b[0m eta \u001b[36m0:00:00\u001b[0m\n",
      "\u001b[?25hDownloading cycler-0.12.1-py3-none-any.whl (8.3 kB)\n",
      "Downloading fonttools-4.44.0-cp39-cp39-manylinux_2_17_x86_64.manylinux2014_x86_64.whl (4.5 MB)\n",
      "\u001b[2K   \u001b[90m━━━━━━━━━━━━━━━━━━━━━━━━━━━━━━━━━━━━━━━━\u001b[0m \u001b[32m4.5/4.5 MB\u001b[0m \u001b[31m49.5 MB/s\u001b[0m eta \u001b[36m0:00:00\u001b[0ma \u001b[36m0:00:01\u001b[0m\n",
      "\u001b[?25hDownloading importlib_resources-6.1.0-py3-none-any.whl (33 kB)\n",
      "Downloading kiwisolver-1.4.5-cp39-cp39-manylinux_2_12_x86_64.manylinux2010_x86_64.whl (1.6 MB)\n",
      "\u001b[2K   \u001b[90m━━━━━━━━━━━━━━━━━━━━━━━━━━━━━━━━━━━━━━━━\u001b[0m \u001b[32m1.6/1.6 MB\u001b[0m \u001b[31m78.4 MB/s\u001b[0m eta \u001b[36m0:00:00\u001b[0m\n",
      "\u001b[?25hDownloading pyparsing-3.1.1-py3-none-any.whl (103 kB)\n",
      "\u001b[2K   \u001b[90m━━━━━━━━━━━━━━━━━━━━━━━━━━━━━━━━━━━━━━━━\u001b[0m \u001b[32m103.1/103.1 kB\u001b[0m \u001b[31m11.8 MB/s\u001b[0m eta \u001b[36m0:00:00\u001b[0m\n",
      "\u001b[?25hInstalling collected packages: pyparsing, kiwisolver, importlib-resources, fonttools, cycler, contourpy, matplotlib\n",
      "Successfully installed contourpy-1.2.0 cycler-0.12.1 fonttools-4.44.0 importlib-resources-6.1.0 kiwisolver-1.4.5 matplotlib-3.8.1 pyparsing-3.1.1\n"
     ]
    }
   ],
   "source": [
    "!pip install matplotlib"
   ]
  },
  {
   "cell_type": "code",
   "execution_count": 3,
   "id": "92753d62-cd8b-4753-81e9-e943ecfe4364",
   "metadata": {},
   "outputs": [
    {
     "name": "stdout",
     "output_type": "stream",
     "text": [
      "--2023-11-06 14:13:43--  https://openaipublic.blob.core.windows.net/lm-human-preferences/labels/tldr/online_45k.json\n",
      "Resolving openaipublic.blob.core.windows.net (openaipublic.blob.core.windows.net)... 20.150.77.132\n",
      "Connecting to openaipublic.blob.core.windows.net (openaipublic.blob.core.windows.net)|20.150.77.132|:443... connected.\n",
      "HTTP request sent, awaiting response... 200 OK\n",
      "Length: 218425452 (208M) [application/json]\n",
      "Saving to: ‘online_45k.json’\n",
      "\n",
      "online_45k.json     100%[===================>] 208.31M  3.65MB/s    in 35s     \n",
      "\n",
      "2023-11-06 14:14:19 (5.88 MB/s) - ‘online_45k.json’ saved [218425452/218425452]\n",
      "\n"
     ]
    }
   ],
   "source": [
    "!wget https://openaipublic.blob.core.windows.net/lm-human-preferences/labels/tldr/online_45k.json\n"
   ]
  },
  {
   "cell_type": "code",
   "execution_count": 1,
   "id": "0850717e-70cb-451e-874b-7d60c338b271",
   "metadata": {},
   "outputs": [],
   "source": [
    "import json\n",
    "from tqdm import tqdm"
   ]
  },
  {
   "cell_type": "code",
   "execution_count": 85,
   "id": "ba9655f2-dbe1-4b17-ad23-99011bb2de53",
   "metadata": {},
   "outputs": [],
   "source": [
    "with open('offline_60k.json') as f:\n",
    "    data = json.load(f)"
   ]
  },
  {
   "cell_type": "code",
   "execution_count": 86,
   "id": "0151e781-8af0-4baa-a8a5-8a7269e63dc7",
   "metadata": {},
   "outputs": [
    {
     "data": {
      "text/plain": [
       "60055"
      ]
     },
     "execution_count": 86,
     "metadata": {},
     "output_type": "execute_result"
    }
   ],
   "source": [
    "len(data)"
   ]
  },
  {
   "cell_type": "code",
   "execution_count": 87,
   "id": "e93083da-cf2a-457f-abb1-f73b563f8b11",
   "metadata": {},
   "outputs": [],
   "source": [
    "from transformers import GPT2Tokenizer"
   ]
  },
  {
   "cell_type": "code",
   "execution_count": 88,
   "id": "7048aa5a-d607-4509-bf22-b57c0ccf008f",
   "metadata": {},
   "outputs": [],
   "source": [
    "tokenizer = GPT2Tokenizer.from_pretrained(\"gpt2\")"
   ]
  },
  {
   "cell_type": "code",
   "execution_count": null,
   "id": "c6ca9256-e018-496f-b68f-fd095091472c",
   "metadata": {},
   "outputs": [],
   "source": [
    "def filter_list(list, id):\n",
    "    return [i for i in list if i != id]"
   ]
  },
  {
   "cell_type": "code",
   "execution_count": 89,
   "id": "6a97c9e2-d6bc-4982-b418-4dcb603d385a",
   "metadata": {},
   "outputs": [],
   "source": [
    "rows = []\n",
    "for example in data:\n",
    "    query = tokenizer.decode(filter_list(example['query'], 50259))\n",
    "    sample0 = tokenizer.decode(filter_list(example['sample0'], 50259))\n",
    "    sample1 = tokenizer.decode(filter_list(example['sample1'], 50259))\n",
    "    sample2 = tokenizer.decode(filter_list(example['sample2'], 50259))\n",
    "    sample3 = tokenizer.decode(filter_list(example['sample3'], 50259))\n",
    "    label = example['best']\n",
    "    rows.append([query, sample0, sample1, sample2, sample3, label])"
   ]
  },
  {
   "cell_type": "code",
   "execution_count": 91,
   "id": "2b4cb1f2-42d2-4352-aa5f-3c8186965df6",
   "metadata": {},
   "outputs": [],
   "source": [
    "import csv\n",
    "with open(\"offline_60k_raw.csv\", 'w', newline='') as file:\n",
    "        writer = csv.writer(file)\n",
    "        writer.writerow([\"Query\", \"Sample_0\", \"Sample_1\", \"Sample_2\", \"Sample_3\", \"Best\"])\n",
    "        writer.writerows(rows)"
   ]
  },
  {
   "cell_type": "code",
   "execution_count": 92,
   "id": "162fadc5-2442-4217-8271-338f85a33ba1",
   "metadata": {},
   "outputs": [],
   "source": [
    "with open('online_45k.json') as f:\n",
    "    data = json.load(f)"
   ]
  },
  {
   "cell_type": "code",
   "execution_count": 93,
   "id": "43ebd444-574f-44df-9d33-1b78c24b12fc",
   "metadata": {},
   "outputs": [],
   "source": [
    "rows = []\n",
    "for example in data:\n",
    "    query = tokenizer.decode(filter_list(example['query'], 50259))\n",
    "    sample0 = tokenizer.decode(filter_list(example['sample0'], 50259))\n",
    "    sample1 = tokenizer.decode(filter_list(example['sample1'], 50259))\n",
    "    sample2 = tokenizer.decode(filter_list(example['sample2'], 50259))\n",
    "    sample3 = tokenizer.decode(filter_list(example['sample3'], 50259))\n",
    "    label = example['best']\n",
    "    rows.append([query, sample0, sample1, sample2, sample3, label])"
   ]
  },
  {
   "cell_type": "code",
   "execution_count": 94,
   "id": "d09ed388-b685-45fc-8984-46283eac9838",
   "metadata": {},
   "outputs": [],
   "source": [
    "with open(\"online_45k_raw.csv\", 'w', newline='') as file:\n",
    "        writer = csv.writer(file)\n",
    "        writer.writerow([\"Query\", \"Sample_0\", \"Sample_1\", \"Sample_2\", \"Sample_3\", \"Best\"])\n",
    "        writer.writerows(rows)"
   ]
  },
  {
   "cell_type": "code",
   "execution_count": 2,
   "id": "59461e7a-d98f-4eb3-bc4e-dc72edee581c",
   "metadata": {},
   "outputs": [],
   "source": [
    "import pandas as pd\n",
    "import matplotlib.pyplot as plt"
   ]
  },
  {
   "cell_type": "code",
   "execution_count": 3,
   "id": "e91ef9d7-2be0-4275-9fe5-23f9d1be12e0",
   "metadata": {},
   "outputs": [],
   "source": [
    "raw_60k = pd.read_csv(\"offline_60k_raw.csv\", header=0)"
   ]
  },
  {
   "cell_type": "code",
   "execution_count": 4,
   "id": "d1ec094e-6fa6-4126-a458-72ed5b824ac5",
   "metadata": {},
   "outputs": [
    {
     "data": {
      "text/html": [
       "<div>\n",
       "<style scoped>\n",
       "    .dataframe tbody tr th:only-of-type {\n",
       "        vertical-align: middle;\n",
       "    }\n",
       "\n",
       "    .dataframe tbody tr th {\n",
       "        vertical-align: top;\n",
       "    }\n",
       "\n",
       "    .dataframe thead th {\n",
       "        text-align: right;\n",
       "    }\n",
       "</style>\n",
       "<table border=\"1\" class=\"dataframe\">\n",
       "  <thead>\n",
       "    <tr style=\"text-align: right;\">\n",
       "      <th></th>\n",
       "      <th>Query</th>\n",
       "      <th>Sample_0</th>\n",
       "      <th>Sample_1</th>\n",
       "      <th>Sample_2</th>\n",
       "      <th>Sample_3</th>\n",
       "      <th>Best</th>\n",
       "    </tr>\n",
       "  </thead>\n",
       "  <tbody>\n",
       "    <tr>\n",
       "      <th>0</th>\n",
       "      <td>Don't be foolish.  This kind of strawmanning o...</td>\n",
       "      <td>Not the end goal of communism.\\n\\nPlease note...</td>\n",
       "      <td>\\n\\nCapitalism is a privately held system base...</td>\n",
       "      <td>Communism is a socialistic system where the s...</td>\n",
       "      <td>In the build up to communism, there will be n...</td>\n",
       "      <td>1</td>\n",
       "    </tr>\n",
       "    <tr>\n",
       "      <th>1</th>\n",
       "      <td>Hey r/gc.  Here's some stuff I bought/acquired...</td>\n",
       "      <td>\\n\\n- I bought some crap\\n\\n- I sold some crap...</td>\n",
       "      <td>Http://imgur.com/a/GdKMx.\\n\\nA few points her...</td>\n",
       "      <td>\\n\\nI bought presents for my wife and kids.\\n\\...</td>\n",
       "      <td>I found a ton of stuff and it's all under $90...</td>\n",
       "      <td>1</td>\n",
       "    </tr>\n",
       "    <tr>\n",
       "      <th>2</th>\n",
       "      <td>Nice. I got my Coliseum 300 for $50 in a pawn ...</td>\n",
       "      <td>This amp is really a beast.\\n\\nIf you're look...</td>\n",
       "      <td>This is easily one of the best amplifiers I'v...</td>\n",
       "      <td>If you are looking for a truly great bass sou...</td>\n",
       "      <td>A very high quality, well-designed amp for a ...</td>\n",
       "      <td>1</td>\n",
       "    </tr>\n",
       "    <tr>\n",
       "      <th>3</th>\n",
       "      <td>Mini-Croissants! No matter what I say, stop me...</td>\n",
       "      <td>I was at a senior prom and was punched in the...</td>\n",
       "      <td>He was a dick, I don't care how you look at i...</td>\n",
       "      <td>I was with my boyfriend at a Taco Bell and he...</td>\n",
       "      <td>I was in a semi-new relationship with my boyf...</td>\n",
       "      <td>3</td>\n",
       "    </tr>\n",
       "    <tr>\n",
       "      <th>4</th>\n",
       "      <td>I cant speak for Portland, but Orlando i think...</td>\n",
       "      <td>We love our Emerald City soccer team, but it ...</td>\n",
       "      <td>Orlando has attracted international football ...</td>\n",
       "      <td>Orlando has its own fan base, it has a great ...</td>\n",
       "      <td>, soccer and the Portland Pride effect Orlando...</td>\n",
       "      <td>2</td>\n",
       "    </tr>\n",
       "  </tbody>\n",
       "</table>\n",
       "</div>"
      ],
      "text/plain": [
       "                                               Query  \\\n",
       "0  Don't be foolish.  This kind of strawmanning o...   \n",
       "1  Hey r/gc.  Here's some stuff I bought/acquired...   \n",
       "2  Nice. I got my Coliseum 300 for $50 in a pawn ...   \n",
       "3  Mini-Croissants! No matter what I say, stop me...   \n",
       "4  I cant speak for Portland, but Orlando i think...   \n",
       "\n",
       "                                            Sample_0  \\\n",
       "0   Not the end goal of communism.\\n\\nPlease note...   \n",
       "1  \\n\\n- I bought some crap\\n\\n- I sold some crap...   \n",
       "2   This amp is really a beast.\\n\\nIf you're look...   \n",
       "3   I was at a senior prom and was punched in the...   \n",
       "4   We love our Emerald City soccer team, but it ...   \n",
       "\n",
       "                                            Sample_1  \\\n",
       "0  \\n\\nCapitalism is a privately held system base...   \n",
       "1   Http://imgur.com/a/GdKMx.\\n\\nA few points her...   \n",
       "2   This is easily one of the best amplifiers I'v...   \n",
       "3   He was a dick, I don't care how you look at i...   \n",
       "4   Orlando has attracted international football ...   \n",
       "\n",
       "                                            Sample_2  \\\n",
       "0   Communism is a socialistic system where the s...   \n",
       "1  \\n\\nI bought presents for my wife and kids.\\n\\...   \n",
       "2   If you are looking for a truly great bass sou...   \n",
       "3   I was with my boyfriend at a Taco Bell and he...   \n",
       "4   Orlando has its own fan base, it has a great ...   \n",
       "\n",
       "                                            Sample_3  Best  \n",
       "0   In the build up to communism, there will be n...     1  \n",
       "1   I found a ton of stuff and it's all under $90...     1  \n",
       "2   A very high quality, well-designed amp for a ...     1  \n",
       "3   I was in a semi-new relationship with my boyf...     3  \n",
       "4  , soccer and the Portland Pride effect Orlando...     2  "
      ]
     },
     "execution_count": 4,
     "metadata": {},
     "output_type": "execute_result"
    }
   ],
   "source": [
    "raw_60k.head(5)"
   ]
  },
  {
   "cell_type": "code",
   "execution_count": 5,
   "id": "07e7c05e-2637-4d90-85e8-735f74cd4b75",
   "metadata": {},
   "outputs": [
    {
     "data": {
      "text/plain": [
       "<Axes: >"
      ]
     },
     "execution_count": 5,
     "metadata": {},
     "output_type": "execute_result"
    },
    {
     "data": {
      "image/png": "[encoded data removed]",
      "text/plain": [
       "<Figure size 640x480 with 1 Axes>"
      ]
     },
     "metadata": {},
     "output_type": "display_data"
    }
   ],
   "source": [
    "raw_60k['Best'].hist()"
   ]
  },
  {
   "cell_type": "code",
   "execution_count": 6,
   "id": "bedf6d54-6aeb-48b1-a626-748a9e58ea0d",
   "metadata": {},
   "outputs": [],
   "source": [
    "grouped = raw_60k.groupby('Query')"
   ]
  },
  {
   "cell_type": "code",
   "execution_count": 7,
   "id": "9f6e41de-5df5-4718-80bd-d0530228b220",
   "metadata": {},
   "outputs": [
    {
     "data": {
      "text/plain": [
       "(49643, 60055)"
      ]
     },
     "execution_count": 7,
     "metadata": {},
     "output_type": "execute_result"
    }
   ],
   "source": [
    "len(grouped), len(raw_60k)"
   ]
  },
  {
   "cell_type": "code",
   "execution_count": 30,
   "id": "bb7a1106-8904-4491-83f4-e9b49aa43816",
   "metadata": {},
   "outputs": [
    {
     "name": "stderr",
     "output_type": "stream",
     "text": [
      "/scratch-ssd/lucelo/conda_envs/uqrm/lib/python3.9/site-packages/numpy/core/fromnumeric.py:59: FutureWarning: 'DataFrame.swapaxes' is deprecated and will be removed in a future version. Please use 'DataFrame.transpose' instead.\n",
      "  return bound(*args, **kwds)\n"
     ]
    }
   ],
   "source": [
    "df = grouped.apply(lambda x: x)\n",
    "\n",
    "# Calculate the indices where the splits should happen\n",
    "total_rows = len(df)\n",
    "split_indices = [int(total_rows*0.7)]\n",
    "\n",
    "# Split the DataFrame\n",
    "import numpy as np\n",
    "splits = np.split(df, split_indices)"
   ]
  },
  {
   "cell_type": "code",
   "execution_count": 31,
   "id": "d47a2328-0400-484f-93b0-7fee0ad4a017",
   "metadata": {},
   "outputs": [
    {
     "data": {
      "text/plain": [
       "2"
      ]
     },
     "execution_count": 31,
     "metadata": {},
     "output_type": "execute_result"
    }
   ],
   "source": [
    "len(splits)"
   ]
  },
  {
   "cell_type": "code",
   "execution_count": 33,
   "id": "34b366e5-c5cc-4e5e-b299-3444d7d3f540",
   "metadata": {},
   "outputs": [
    {
     "data": {
      "text/plain": [
       "(42038, 18017)"
      ]
     },
     "execution_count": 33,
     "metadata": {},
     "output_type": "execute_result"
    }
   ],
   "source": [
    "len(splits[0]), len(splits[1])"
   ]
  },
  {
   "cell_type": "code",
   "execution_count": 34,
   "id": "22c7f2bd-0083-4e3c-937c-b0ffe799f35a",
   "metadata": {},
   "outputs": [],
   "source": [
    "train = splits[0].reset_index(drop=True)\n",
    "val = splits[1].reset_index(drop=True)"
   ]
  },
  {
   "cell_type": "code",
   "execution_count": 35,
   "id": "5bb60355-e8a6-4e6f-9837-39339edded3a",
   "metadata": {},
   "outputs": [
    {
     "data": {
      "text/html": [
       "<div>\n",
       "<style scoped>\n",
       "    .dataframe tbody tr th:only-of-type {\n",
       "        vertical-align: middle;\n",
       "    }\n",
       "\n",
       "    .dataframe tbody tr th {\n",
       "        vertical-align: top;\n",
       "    }\n",
       "\n",
       "    .dataframe thead th {\n",
       "        text-align: right;\n",
       "    }\n",
       "</style>\n",
       "<table border=\"1\" class=\"dataframe\">\n",
       "  <thead>\n",
       "    <tr style=\"text-align: right;\">\n",
       "      <th></th>\n",
       "      <th>Query</th>\n",
       "      <th>Sample_0</th>\n",
       "      <th>Sample_1</th>\n",
       "      <th>Sample_2</th>\n",
       "      <th>Sample_3</th>\n",
       "      <th>Best</th>\n",
       "    </tr>\n",
       "  </thead>\n",
       "  <tbody>\n",
       "    <tr>\n",
       "      <th>0</th>\n",
       "      <td>!doublecheck\\n\\nThere's no going back once a w...</td>\n",
       "      <td>\\n\\nWomen are a person, they can be happy, the...</td>\n",
       "      <td>She's still your girlfriend, but she doesn't ...</td>\n",
       "      <td>Women who don't want to be around you are cra...</td>\n",
       "      <td>\\n\\nIt's not your fault.\\n\\nYou are the one wh...</td>\n",
       "      <td>2</td>\n",
       "    </tr>\n",
       "    <tr>\n",
       "      <th>1</th>\n",
       "      <td>\" I can't bear losing all my friends and ruini...</td>\n",
       "      <td>Start thinking about life in a positive and p...</td>\n",
       "      <td>You want to do something new? Get out there a...</td>\n",
       "      <td>Don't be afraid to say yes.\\n\\nThe next time ...</td>\n",
       "      <td>Treat yourself to something special, even if ...</td>\n",
       "      <td>0</td>\n",
       "    </tr>\n",
       "    <tr>\n",
       "      <th>2</th>\n",
       "      <td>\" The biggest issue I have is Deoxys A's respi...</td>\n",
       "      <td>Deoxys A isn't nearly as big of a deal as man...</td>\n",
       "      <td>Just play the decks you are comfortable with,...</td>\n",
       "      <td>\\n\\nDeo's are very powerful but have some nast...</td>\n",
       "      <td>It's still there and probably strong (but not...</td>\n",
       "      <td>0</td>\n",
       "    </tr>\n",
       "    <tr>\n",
       "      <th>3</th>\n",
       "      <td>\"(can't send woodchips through a pipeline!). \"...</td>\n",
       "      <td>The only alternative is to use renewable ener...</td>\n",
       "      <td>The best option is hydrogen. Cheap, safe, rel...</td>\n",
       "      <td>\\n\\n1. Global Warming: The world can be powere...</td>\n",
       "      <td>&lt;|endoftext|&gt;</td>\n",
       "      <td>0</td>\n",
       "    </tr>\n",
       "    <tr>\n",
       "      <th>4</th>\n",
       "      <td>\"**The Prestige**\"\\n\\nA lot of people have voi...</td>\n",
       "      <td>The Prestige is a movie about magic, and magi...</td>\n",
       "      <td>The Prestige was an effective film that was s...</td>\n",
       "      <td>The Prestige was a perfect film. It follows t...</td>\n",
       "      <td>The Prestige is a perfect film and is probabl...</td>\n",
       "      <td>2</td>\n",
       "    </tr>\n",
       "  </tbody>\n",
       "</table>\n",
       "</div>"
      ],
      "text/plain": [
       "                                               Query  \\\n",
       "0  !doublecheck\\n\\nThere's no going back once a w...   \n",
       "1  \" I can't bear losing all my friends and ruini...   \n",
       "2  \" The biggest issue I have is Deoxys A's respi...   \n",
       "3  \"(can't send woodchips through a pipeline!). \"...   \n",
       "4  \"**The Prestige**\"\\n\\nA lot of people have voi...   \n",
       "\n",
       "                                            Sample_0  \\\n",
       "0  \\n\\nWomen are a person, they can be happy, the...   \n",
       "1   Start thinking about life in a positive and p...   \n",
       "2   Deoxys A isn't nearly as big of a deal as man...   \n",
       "3   The only alternative is to use renewable ener...   \n",
       "4   The Prestige is a movie about magic, and magi...   \n",
       "\n",
       "                                            Sample_1  \\\n",
       "0   She's still your girlfriend, but she doesn't ...   \n",
       "1   You want to do something new? Get out there a...   \n",
       "2   Just play the decks you are comfortable with,...   \n",
       "3   The best option is hydrogen. Cheap, safe, rel...   \n",
       "4   The Prestige was an effective film that was s...   \n",
       "\n",
       "                                            Sample_2  \\\n",
       "0   Women who don't want to be around you are cra...   \n",
       "1   Don't be afraid to say yes.\\n\\nThe next time ...   \n",
       "2  \\n\\nDeo's are very powerful but have some nast...   \n",
       "3  \\n\\n1. Global Warming: The world can be powere...   \n",
       "4   The Prestige was a perfect film. It follows t...   \n",
       "\n",
       "                                            Sample_3  Best  \n",
       "0  \\n\\nIt's not your fault.\\n\\nYou are the one wh...     2  \n",
       "1   Treat yourself to something special, even if ...     0  \n",
       "2   It's still there and probably strong (but not...     0  \n",
       "3                                      <|endoftext|>     0  \n",
       "4   The Prestige is a perfect film and is probabl...     2  "
      ]
     },
     "execution_count": 35,
     "metadata": {},
     "output_type": "execute_result"
    }
   ],
   "source": [
    "train.head(5)"
   ]
  },
  {
   "cell_type": "code",
   "execution_count": 36,
   "id": "b1ec3c27-9cc2-411d-9dd8-eb0e44b2c121",
   "metadata": {},
   "outputs": [],
   "source": [
    "def explode_rows(df):\n",
    "    # Assuming that `df` is your DataFrame\n",
    "    new_rows = []\n",
    "    for _, row in tqdm(df.iterrows()):\n",
    "        best_sample = f'Sample_{row[\"Best\"]}'\n",
    "        other_samples = [f'Sample_{i}' for i in range(4) if f'Sample_{i}' != best_sample]\n",
    "        for sample in other_samples:\n",
    "            new_row = {'chosen': f'Query: {row[\"Query\"]} Summarization: {row[best_sample]}', \\\n",
    "                       'rejected': f'Query: {row[\"Query\"]} Summarization: {row[sample]}'}\n",
    "            new_rows.append(new_row)\n",
    "    \n",
    "    new_df = pd.DataFrame(new_rows).sample(frac=1).reset_index(drop=True)\n",
    "    return new_df"
   ]
  },
  {
   "cell_type": "code",
   "execution_count": 37,
   "id": "58dbbb53-1d98-4ff4-afa9-7379d6507910",
   "metadata": {},
   "outputs": [
    {
     "name": "stderr",
     "output_type": "stream",
     "text": [
      "42038it [00:02, 16036.91it/s]\n",
      "18017it [00:01, 15901.14it/s]\n"
     ]
    }
   ],
   "source": [
    "train_processed = explode_rows(train)\n",
    "test_processed = explode_rows(test)"
   ]
  },
  {
   "cell_type": "code",
   "execution_count": 38,
   "id": "9d949b8a-5e75-42ad-a342-cc95026a5532",
   "metadata": {},
   "outputs": [
    {
     "data": {
      "text/html": [
       "<div>\n",
       "<style scoped>\n",
       "    .dataframe tbody tr th:only-of-type {\n",
       "        vertical-align: middle;\n",
       "    }\n",
       "\n",
       "    .dataframe tbody tr th {\n",
       "        vertical-align: top;\n",
       "    }\n",
       "\n",
       "    .dataframe thead th {\n",
       "        text-align: right;\n",
       "    }\n",
       "</style>\n",
       "<table border=\"1\" class=\"dataframe\">\n",
       "  <thead>\n",
       "    <tr style=\"text-align: right;\">\n",
       "      <th></th>\n",
       "      <th>chosen</th>\n",
       "      <th>rejected</th>\n",
       "    </tr>\n",
       "  </thead>\n",
       "  <tbody>\n",
       "    <tr>\n",
       "      <th>0</th>\n",
       "      <td>Query: Before we started dating, he dropped ou...</td>\n",
       "      <td>Query: Before we started dating, he dropped ou...</td>\n",
       "    </tr>\n",
       "    <tr>\n",
       "      <th>1</th>\n",
       "      <td>Query: Forgive me if I repeat what others have...</td>\n",
       "      <td>Query: Forgive me if I repeat what others have...</td>\n",
       "    </tr>\n",
       "    <tr>\n",
       "      <th>2</th>\n",
       "      <td>Query: &amp;gt;I think what it's saying only appli...</td>\n",
       "      <td>Query: &amp;gt;I think what it's saying only appli...</td>\n",
       "    </tr>\n",
       "    <tr>\n",
       "      <th>3</th>\n",
       "      <td>Query: Hello fellow redditors. I'm 18 years ol...</td>\n",
       "      <td>Query: Hello fellow redditors. I'm 18 years ol...</td>\n",
       "    </tr>\n",
       "    <tr>\n",
       "      <th>4</th>\n",
       "      <td>Query: Hello Reddit - \\n\\nI hope you can help....</td>\n",
       "      <td>Query: Hello Reddit - \\n\\nI hope you can help....</td>\n",
       "    </tr>\n",
       "    <tr>\n",
       "      <th>5</th>\n",
       "      <td>Query: On Monday I posted about seeing the Mat...</td>\n",
       "      <td>Query: On Monday I posted about seeing the Mat...</td>\n",
       "    </tr>\n",
       "    <tr>\n",
       "      <th>6</th>\n",
       "      <td>Query: I was diagnosed 2 months ago and never ...</td>\n",
       "      <td>Query: I was diagnosed 2 months ago and never ...</td>\n",
       "    </tr>\n",
       "    <tr>\n",
       "      <th>7</th>\n",
       "      <td>Query: I just need some general advice. I've b...</td>\n",
       "      <td>Query: I just need some general advice. I've b...</td>\n",
       "    </tr>\n",
       "    <tr>\n",
       "      <th>8</th>\n",
       "      <td>Query: (Throwaway because involved parties lur...</td>\n",
       "      <td>Query: (Throwaway because involved parties lur...</td>\n",
       "    </tr>\n",
       "    <tr>\n",
       "      <th>9</th>\n",
       "      <td>Query: &amp;gt;Is NA starting to be better than EU...</td>\n",
       "      <td>Query: &amp;gt;Is NA starting to be better than EU...</td>\n",
       "    </tr>\n",
       "  </tbody>\n",
       "</table>\n",
       "</div>"
      ],
      "text/plain": [
       "                                              chosen  \\\n",
       "0  Query: Before we started dating, he dropped ou...   \n",
       "1  Query: Forgive me if I repeat what others have...   \n",
       "2  Query: &gt;I think what it's saying only appli...   \n",
       "3  Query: Hello fellow redditors. I'm 18 years ol...   \n",
       "4  Query: Hello Reddit - \\n\\nI hope you can help....   \n",
       "5  Query: On Monday I posted about seeing the Mat...   \n",
       "6  Query: I was diagnosed 2 months ago and never ...   \n",
       "7  Query: I just need some general advice. I've b...   \n",
       "8  Query: (Throwaway because involved parties lur...   \n",
       "9  Query: &gt;Is NA starting to be better than EU...   \n",
       "\n",
       "                                            rejected  \n",
       "0  Query: Before we started dating, he dropped ou...  \n",
       "1  Query: Forgive me if I repeat what others have...  \n",
       "2  Query: &gt;I think what it's saying only appli...  \n",
       "3  Query: Hello fellow redditors. I'm 18 years ol...  \n",
       "4  Query: Hello Reddit - \\n\\nI hope you can help....  \n",
       "5  Query: On Monday I posted about seeing the Mat...  \n",
       "6  Query: I was diagnosed 2 months ago and never ...  \n",
       "7  Query: I just need some general advice. I've b...  \n",
       "8  Query: (Throwaway because involved parties lur...  \n",
       "9  Query: &gt;Is NA starting to be better than EU...  "
      ]
     },
     "execution_count": 38,
     "metadata": {},
     "output_type": "execute_result"
    }
   ],
   "source": [
    "train_processed.head(10)"
   ]
  },
  {
   "cell_type": "code",
   "execution_count": 39,
   "id": "00a9fa94-2846-4666-805a-4e0721015c59",
   "metadata": {},
   "outputs": [],
   "source": [
    "train.to_csv(\"./offline_60k_train_raw.csv\", index=False, header=True)"
   ]
  },
  {
   "cell_type": "code",
   "execution_count": 40,
   "id": "3610fd3e-0c2e-4505-b3a3-ec7d4b6628be",
   "metadata": {},
   "outputs": [],
   "source": [
    "test.to_csv(\"./offline_60k_test_raw.csv\", index=False, header=True)"
   ]
  },
  {
   "cell_type": "code",
   "execution_count": 41,
   "id": "6f4e1923-dc1f-40a3-892e-7ca6a461e751",
   "metadata": {},
   "outputs": [],
   "source": [
    "train_processed.to_csv(\"./offline_60k_train_processed.csv\", index=False, header=True)"
   ]
  },
  {
   "cell_type": "code",
   "execution_count": 42,
   "id": "82d93272-5d2e-4b3b-a531-9d54d302c00a",
   "metadata": {},
   "outputs": [],
   "source": [
    "test_processed.to_csv(\"./offline_60k_test_processed.csv\", index=False, header=True)"
   ]
  },
  {
   "cell_type": "code",
   "execution_count": 43,
   "id": "2dc2ed28-51d1-4a7e-b479-4fb5fd230db0",
   "metadata": {},
   "outputs": [],
   "source": [
    "from datasets import load_dataset"
   ]
  },
  {
   "cell_type": "code",
   "execution_count": 44,
   "id": "5305b350-c3c7-473c-b7c9-9702eae86d69",
   "metadata": {},
   "outputs": [
    {
     "name": "stdout",
     "output_type": "stream",
     "text": [
      "Token will not been saved to git credential helper. Pass `add_to_git_credential=True` if you want to set the git credential as well.\n",
      "Token is valid (permission: write).\n",
      "Your token has been saved to /scratch-ssd/oatml/huggingface/token\n",
      "Login successful\n"
     ]
    }
   ],
   "source": [
    "!huggingface-cli login --token $HUGGINGFACE_WRITETOKEN"
   ]
  },
  {
   "cell_type": "code",
   "execution_count": 45,
   "id": "edc93563-01f7-4a77-ab8a-418c257ea0d5",
   "metadata": {},
   "outputs": [
    {
     "data": {
      "application/vnd.jupyter.widget-view+json": {
       "model_id": "caa053c22bcc4f18ab3a6b197ebe4b2f",
       "version_major": 2,
       "version_minor": 0
      },
      "text/plain": [
       "Downloading readme:   0%|          | 0.00/151 [00:00<?, ?B/s]"
      ]
     },
     "metadata": {},
     "output_type": "display_data"
    },
    {
     "data": {
      "application/vnd.jupyter.widget-view+json": {
       "model_id": "7b892a32bc1e41cf99c4c6cdad98de03",
       "version_major": 2,
       "version_minor": 0
      },
      "text/plain": [
       "Downloading data files:   0%|          | 0/2 [00:00<?, ?it/s]"
      ]
     },
     "metadata": {},
     "output_type": "display_data"
    },
    {
     "data": {
      "application/vnd.jupyter.widget-view+json": {
       "model_id": "1a7b92f174534109baa4bb1f12c4131c",
       "version_major": 2,
       "version_minor": 0
      },
      "text/plain": [
       "Downloading data:   0%|          | 0.00/439M [00:00<?, ?B/s]"
      ]
     },
     "metadata": {},
     "output_type": "display_data"
    },
    {
     "data": {
      "application/vnd.jupyter.widget-view+json": {
       "model_id": "1b0571dde3844d35840429a5ecadb8c8",
       "version_major": 2,
       "version_minor": 0
      },
      "text/plain": [
       "Downloading data:   0%|          | 0.00/187M [00:00<?, ?B/s]"
      ]
     },
     "metadata": {},
     "output_type": "display_data"
    },
    {
     "data": {
      "application/vnd.jupyter.widget-view+json": {
       "model_id": "0066745e8bbb4838b42079d48c1bbd15",
       "version_major": 2,
       "version_minor": 0
      },
      "text/plain": [
       "Extracting data files:   0%|          | 0/2 [00:00<?, ?it/s]"
      ]
     },
     "metadata": {},
     "output_type": "display_data"
    },
    {
     "data": {
      "application/vnd.jupyter.widget-view+json": {
       "model_id": "c46818a92c4143c7ad5a9982a7e9a85d",
       "version_major": 2,
       "version_minor": 0
      },
      "text/plain": [
       "Generating train split: 0 examples [00:00, ? examples/s]"
      ]
     },
     "metadata": {},
     "output_type": "display_data"
    },
    {
     "data": {
      "application/vnd.jupyter.widget-view+json": {
       "model_id": "9154d09a261b4813b633d8ec893d5c03",
       "version_major": 2,
       "version_minor": 0
      },
      "text/plain": [
       "Generating test split: 0 examples [00:00, ? examples/s]"
      ]
     },
     "metadata": {},
     "output_type": "display_data"
    }
   ],
   "source": [
    "dataset = load_dataset(\"luckeciano/reddit-human-preferences\")"
   ]
  },
  {
   "cell_type": "code",
   "execution_count": 46,
   "id": "a72e2def-cdc9-4190-b863-cff32c42e49e",
   "metadata": {},
   "outputs": [
    {
     "data": {
      "text/plain": [
       "2"
      ]
     },
     "execution_count": 46,
     "metadata": {},
     "output_type": "execute_result"
    }
   ],
   "source": [
    "len(dataset)"
   ]
  },
  {
   "cell_type": "code",
   "execution_count": null,
   "id": "a126ca74-f22a-4150-b242-dcaf53479c99",
   "metadata": {},
   "outputs": [],
   "source": []
  }
 ],
 "metadata": {
  "kernelspec": {
   "display_name": "Python 3 (ipykernel)",
   "language": "python",
   "name": "python3"
  },
  "language_info": {
   "codemirror_mode": {
    "name": "ipython",
    "version": 3
   },
   "file_extension": ".py",
   "mimetype": "text/x-python",
   "name": "python",
   "nbconvert_exporter": "python",
   "pygments_lexer": "ipython3",
   "version": "3.9.18"
  }
 },
 "nbformat": 4,
 "nbformat_minor": 5
}
